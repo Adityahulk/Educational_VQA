{
 "cells": [
  {
   "cell_type": "code",
   "execution_count": 1,
   "id": "2d68b3ba-a21e-40ae-bf12-6ff6f34af7dc",
   "metadata": {},
   "outputs": [
    {
     "name": "stdout",
     "output_type": "stream",
     "text": [
      "{'0': './document_test/document_11.pdf', '1': './document_test/document_10.pdf', '2': './document_test/document_12.pdf', '3': './document_test/document_2.pdf', '4': './document_test/document_1.pdf', '5': './document_test/document_101.pdf', '6': './document_test/document_3.pdf'}\n"
     ]
    }
   ],
   "source": [
    "import json\n",
    "\n",
    "\n",
    "with open('doc_id_to_path.json','r') as f:\n",
    "    data = json.load(f)\n",
    "\n",
    "print(data)"
   ]
  },
  {
   "cell_type": "code",
   "execution_count": null,
   "id": "0e8d4788-090a-47c9-a5a5-748afc89ec27",
   "metadata": {},
   "outputs": [],
   "source": []
  }
 ],
 "metadata": {
  "kernelspec": {
   "display_name": "Python 3 (ipykernel)",
   "language": "python",
   "name": "python3"
  },
  "language_info": {
   "codemirror_mode": {
    "name": "ipython",
    "version": 3
   },
   "file_extension": ".py",
   "mimetype": "text/x-python",
   "name": "python",
   "nbconvert_exporter": "python",
   "pygments_lexer": "ipython3",
   "version": "3.12.7"
  }
 },
 "nbformat": 4,
 "nbformat_minor": 5
}
